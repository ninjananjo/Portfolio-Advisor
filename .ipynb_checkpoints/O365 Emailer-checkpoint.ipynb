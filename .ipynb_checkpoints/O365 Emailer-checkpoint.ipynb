{
 "cells": [
  {
   "cell_type": "code",
   "execution_count": 48,
   "metadata": {},
   "outputs": [],
   "source": [
    "import smtplib\n",
    "import base64\n",
    "import pandas as pd\n",
    "from email.message import EmailMessage"
   ]
  },
  {
   "cell_type": "code",
   "execution_count": 97,
   "metadata": {},
   "outputs": [],
   "source": [
    "data = 'ihcatiH4'\n",
    "urlSafeEncodedBytes = base64.urlsafe_b64encode(data.encode(\"utf-8\"))\n",
    "urlSafeEncodedStr = str(urlSafeEncodedBytes, \"utf-8\")"
   ]
  },
  {
   "cell_type": "code",
   "execution_count": 30,
   "metadata": {},
   "outputs": [],
   "source": [
    "ftse = pd.read_csv('FTSE100_tickers.csv')"
   ]
  },
  {
   "cell_type": "code",
   "execution_count": 98,
   "metadata": {},
   "outputs": [
    {
     "data": {
      "text/plain": [
       "(221, b'2.0.0 Service closing transmission channel')"
      ]
     },
     "execution_count": 98,
     "metadata": {},
     "output_type": "execute_result"
    }
   ],
   "source": [
    "sendto = 'james.nanji@googlemail.com'\n",
    "user= 'nanjij@arcadiagroup.co.uk'\n",
    "\n",
    "#password = str(base64.b64decode(b'aWhjYXRpSDQ='))\n",
    "#password = password[2:-1]\n",
    "password = base64.b64decode(urlSafeEncodedStr).decode('utf-8')\n",
    "\n",
    "mailserver = smtplib.SMTP('smtp.office365.com',587)\n",
    "mailserver.ehlo()\n",
    "mailserver.starttls()\n",
    "mailserver.login(user, password)\n",
    "\n",
    "# Create the container email message.\n",
    "msg = EmailMessage()\n",
    "msg['Subject'] = 'FTSE Tickers'\n",
    "msg['From'] = user\n",
    "msg['To'] = sendto\n",
    "msg.set_content('FTSE Tickers scrapped from Wikipedia\\n' +str(ftse['Ticker'].values))\n",
    "\n",
    "mailserver.send_message(msg)\n",
    "mailserver.quit()"
   ]
  }
 ],
 "metadata": {
  "kernelspec": {
   "display_name": "",
   "name": ""
  },
  "language_info": {
   "codemirror_mode": {
    "name": "ipython",
    "version": 3
   },
   "file_extension": ".py",
   "mimetype": "text/x-python",
   "name": "python",
   "nbconvert_exporter": "python",
   "pygments_lexer": "ipython3",
   "version": "3.7.3"
  }
 },
 "nbformat": 4,
 "nbformat_minor": 2
}
