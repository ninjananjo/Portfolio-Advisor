{
 "cells": [
  {
   "cell_type": "code",
   "execution_count": 29,
   "metadata": {},
   "outputs": [],
   "source": [
    "import smtplib\n",
    "import pandas as pd\n",
    "from email.message import EmailMessage"
   ]
  },
  {
   "cell_type": "code",
   "execution_count": 46,
   "metadata": {},
   "outputs": [
    {
     "data": {
      "text/plain": [
       "(221, b'2.0.0 Service closing transmission channel')"
      ]
     },
     "execution_count": 46,
     "metadata": {},
     "output_type": "execute_result"
    }
   ],
   "source": [
    "sendto = 'edmundbonich@yahoo.co.uk, james.nanji@googlemail.com'\n",
    "user= 'nanjij@arcadiagroup.co.uk'\n",
    "\n",
    "mailserver = smtplib.SMTP('smtp.office365.com',587)\n",
    "mailserver.ehlo()\n",
    "mailserver.starttls()\n",
    "mailserver.login('nanjij@arcadiagroup.co.uk', 'ihcatiH4')\n",
    "\n",
    "# Create the container email message.\n",
    "msg = EmailMessage()\n",
    "msg['Subject'] = 'FTSE Tickers'\n",
    "msg['From'] = user\n",
    "msg['To'] = sendto\n",
    "msg.set_content('FTSE Tickers scrapped from Wikipedia\\n' +str(ftse['Ticker'].values))\n",
    "\n",
    "mailserver.send_message(msg)\n",
    "mailserver.quit()"
   ]
  },
  {
   "cell_type": "code",
   "execution_count": 30,
   "metadata": {},
   "outputs": [],
   "source": [
    "ftse = pd.read_csv('FTSE100_tickers.csv')"
   ]
  },
  {
   "cell_type": "code",
   "execution_count": 47,
   "metadata": {},
   "outputs": [
    {
     "data": {
      "text/plain": [
       "'0      III.L\\n1      ADM.L\\n2      AAL.L\\n3     ANTO.L\\n4      AHT.L\\n5      ABF.L\\n6      AZN.L\\n7     AUTO.L\\n8       AV.L\\n9       BA.L\\n10    BARC.L\\n11    BDEV.L\\n12     BKG.L\\n13     BHP.L\\n14      BP.L\\n15    BATS.L\\n16    BLND.L\\n17    BT-A.L\\n18    BNZL.L\\n19    BRBY.L\\n20     CCL.L\\n21     CNA.L\\n22     CCH.L\\n23     CPG.L\\n24     CRH.L\\n25    CRDA.L\\n26     DCC.L\\n27     DGE.L\\n28     DLG.L\\n29     EZJ.L\\n       ...  \\n70     RTO.L\\n71     RIO.L\\n72     RMV.L\\n73      RR.L\\n74     RBS.L\\n75    RDSA.L\\n76     RSA.L\\n77     SGE.L\\n78    SBRY.L\\n79     SDR.L\\n80     SMT.L\\n81    SGRO.L\\n82     SVT.L\\n83      SN.L\\n84    SMDS.L\\n85    SMIN.L\\n86     SKG.L\\n87     SPX.L\\n88     SSE.L\\n89    STAN.L\\n90     SLA.L\\n91     STJ.L\\n92      TW.L\\n93    TSCO.L\\n94     TUI.L\\n95    ULVR.L\\n96      UU.L\\n97     VOD.L\\n98     WTB.L\\n99     WPP.L\\nName: Ticker, Length: 100, dtype: object'"
      ]
     },
     "execution_count": 47,
     "metadata": {},
     "output_type": "execute_result"
    }
   ],
   "source": [
    "str(ftse.loc[:,'Ticker'])"
   ]
  },
  {
   "cell_type": "code",
   "execution_count": null,
   "metadata": {},
   "outputs": [],
   "source": []
  }
 ],
 "metadata": {
  "kernelspec": {
   "display_name": "",
   "name": ""
  },
  "language_info": {
   "codemirror_mode": {
    "name": "ipython",
    "version": 3
   },
   "file_extension": ".py",
   "mimetype": "text/x-python",
   "name": "python",
   "nbconvert_exporter": "python",
   "pygments_lexer": "ipython3",
   "version": "3.7.3"
  }
 },
 "nbformat": 4,
 "nbformat_minor": 2
}
