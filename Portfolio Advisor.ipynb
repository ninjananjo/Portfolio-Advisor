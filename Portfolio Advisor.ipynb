{
 "cells": [
  {
   "cell_type": "code",
   "execution_count": 1,
   "metadata": {},
   "outputs": [
    {
     "name": "stdout",
     "output_type": "stream",
     "text": [
      "Requirement already satisfied: pandas in c:\\users\\james\\anaconda3\\lib\\site-packages (0.24.2)\n",
      "Requirement already satisfied: python-dateutil>=2.5.0 in c:\\users\\james\\anaconda3\\lib\\site-packages (from pandas) (2.8.0)\n",
      "Requirement already satisfied: pytz>=2011k in c:\\users\\james\\anaconda3\\lib\\site-packages (from pandas) (2018.9)\n",
      "Requirement already satisfied: numpy>=1.12.0 in c:\\users\\james\\anaconda3\\lib\\site-packages (from pandas) (1.16.2)\n",
      "Requirement already satisfied: six>=1.5 in c:\\users\\james\\anaconda3\\lib\\site-packages (from python-dateutil>=2.5.0->pandas) (1.12.0)\n",
      "Collecting fix_yahoo_finance\n",
      "  Downloading https://files.pythonhosted.org/packages/0c/b3/55468a37787c0a32d0e26155bdd2c712469d95071a125884fc1ff149b75c/fix-yahoo-finance-0.1.33.tar.gz\n",
      "Requirement already satisfied: pandas>=0.24 in c:\\users\\james\\anaconda3\\lib\\site-packages (from fix_yahoo_finance) (0.24.2)\n",
      "Requirement already satisfied: numpy>1.15 in c:\\users\\james\\anaconda3\\lib\\site-packages (from fix_yahoo_finance) (1.16.2)\n",
      "Collecting requests<2.20 (from fix_yahoo_finance)\n",
      "  Downloading https://files.pythonhosted.org/packages/65/47/7e02164a2a3db50ed6d8a6ab1d6d60b69c4c3fdf57a284257925dfc12bda/requests-2.19.1-py2.py3-none-any.whl (91kB)\n",
      "Collecting multitasking>=0.0.7 (from fix_yahoo_finance)\n",
      "  Downloading https://files.pythonhosted.org/packages/44/34/e334d7307b91527cb7918fa9290308a48915316169c401a152d28bb6a843/multitasking-0.0.8.tar.gz\n",
      "Requirement already satisfied: pytz>=2011k in c:\\users\\james\\anaconda3\\lib\\site-packages (from pandas>=0.24->fix_yahoo_finance) (2018.9)\n",
      "Requirement already satisfied: python-dateutil>=2.5.0 in c:\\users\\james\\anaconda3\\lib\\site-packages (from pandas>=0.24->fix_yahoo_finance) (2.8.0)\n",
      "Requirement already satisfied: certifi>=2017.4.17 in c:\\users\\james\\anaconda3\\lib\\site-packages (from requests<2.20->fix_yahoo_finance) (2019.3.9)\n",
      "Collecting urllib3<1.24,>=1.21.1 (from requests<2.20->fix_yahoo_finance)\n",
      "  Downloading https://files.pythonhosted.org/packages/bd/c9/6fdd990019071a4a32a5e7cb78a1d92c53851ef4f56f62a3486e6a7d8ffb/urllib3-1.23-py2.py3-none-any.whl (133kB)\n",
      "Collecting idna<2.8,>=2.5 (from requests<2.20->fix_yahoo_finance)\n",
      "  Downloading https://files.pythonhosted.org/packages/4b/2a/0276479a4b3caeb8a8c1af2f8e4355746a97fab05a372e4a2c6a6b876165/idna-2.7-py2.py3-none-any.whl (58kB)\n",
      "Requirement already satisfied: chardet<3.1.0,>=3.0.2 in c:\\users\\james\\anaconda3\\lib\\site-packages (from requests<2.20->fix_yahoo_finance) (3.0.4)\n",
      "Requirement already satisfied: six>=1.5 in c:\\users\\james\\anaconda3\\lib\\site-packages (from python-dateutil>=2.5.0->pandas>=0.24->fix_yahoo_finance) (1.12.0)\n",
      "Building wheels for collected packages: fix-yahoo-finance, multitasking\n",
      "  Building wheel for fix-yahoo-finance (setup.py): started\n",
      "  Building wheel for fix-yahoo-finance (setup.py): finished with status 'done'\n",
      "  Stored in directory: C:\\Users\\james\\AppData\\Local\\pip\\Cache\\wheels\\a3\\1b\\c0\\91156c9ac30e03348d0d5d2a667cc54f3133cfa8070fded8c5\n",
      "  Building wheel for multitasking (setup.py): started\n",
      "  Building wheel for multitasking (setup.py): finished with status 'done'\n",
      "  Stored in directory: C:\\Users\\james\\AppData\\Local\\pip\\Cache\\wheels\\82\\27\\ba\\ae62240e6a22e138638b4b7f00d9803fc814bd10e343491dff\n",
      "Successfully built fix-yahoo-finance multitasking\n",
      "Installing collected packages: urllib3, idna, requests, multitasking, fix-yahoo-finance\n",
      "  Found existing installation: urllib3 1.24.1\n",
      "    Uninstalling urllib3-1.24.1:\n",
      "      Successfully uninstalled urllib3-1.24.1\n",
      "  Found existing installation: idna 2.8\n",
      "    Uninstalling idna-2.8:\n",
      "      Successfully uninstalled idna-2.8\n",
      "  Found existing installation: requests 2.21.0\n",
      "    Uninstalling requests-2.21.0:\n",
      "      Successfully uninstalled requests-2.21.0\n",
      "Successfully installed fix-yahoo-finance-0.1.33 idna-2.7 multitasking-0.0.8 requests-2.19.1 urllib3-1.23\n",
      "Collecting pandas-datareader\n",
      "  Downloading https://files.pythonhosted.org/packages/cc/5c/ea5b6dcfd0f55c5fb1e37fb45335ec01cceca199b8a79339137f5ed269e0/pandas_datareader-0.7.0-py2.py3-none-any.whl (111kB)\n",
      "Requirement already satisfied: requests>=2.3.0 in c:\\users\\james\\anaconda3\\lib\\site-packages (from pandas-datareader) (2.19.1)\n",
      "Requirement already satisfied: pandas>=0.19.2 in c:\\users\\james\\anaconda3\\lib\\site-packages (from pandas-datareader) (0.24.2)\n",
      "Requirement already satisfied: lxml in c:\\users\\james\\anaconda3\\lib\\site-packages (from pandas-datareader) (4.3.2)\n",
      "Requirement already satisfied: wrapt in c:\\users\\james\\anaconda3\\lib\\site-packages (from pandas-datareader) (1.11.1)\n",
      "Requirement already satisfied: idna<2.8,>=2.5 in c:\\users\\james\\anaconda3\\lib\\site-packages (from requests>=2.3.0->pandas-datareader) (2.7)\n",
      "Requirement already satisfied: certifi>=2017.4.17 in c:\\users\\james\\anaconda3\\lib\\site-packages (from requests>=2.3.0->pandas-datareader) (2019.3.9)\n",
      "Requirement already satisfied: chardet<3.1.0,>=3.0.2 in c:\\users\\james\\anaconda3\\lib\\site-packages (from requests>=2.3.0->pandas-datareader) (3.0.4)\n",
      "Requirement already satisfied: urllib3<1.24,>=1.21.1 in c:\\users\\james\\anaconda3\\lib\\site-packages (from requests>=2.3.0->pandas-datareader) (1.23)\n",
      "Requirement already satisfied: python-dateutil>=2.5.0 in c:\\users\\james\\anaconda3\\lib\\site-packages (from pandas>=0.19.2->pandas-datareader) (2.8.0)\n",
      "Requirement already satisfied: numpy>=1.12.0 in c:\\users\\james\\anaconda3\\lib\\site-packages (from pandas>=0.19.2->pandas-datareader) (1.16.2)\n",
      "Requirement already satisfied: pytz>=2011k in c:\\users\\james\\anaconda3\\lib\\site-packages (from pandas>=0.19.2->pandas-datareader) (2018.9)\n",
      "Requirement already satisfied: six>=1.5 in c:\\users\\james\\anaconda3\\lib\\site-packages (from python-dateutil>=2.5.0->pandas>=0.19.2->pandas-datareader) (1.12.0)\n",
      "Installing collected packages: pandas-datareader\n",
      "Successfully installed pandas-datareader-0.7.0\n",
      "Requirement already satisfied: matplotlib in c:\\users\\james\\anaconda3\\lib\\site-packages (3.0.3)\n",
      "Requirement already satisfied: numpy>=1.10.0 in c:\\users\\james\\anaconda3\\lib\\site-packages (from matplotlib) (1.16.2)\n",
      "Requirement already satisfied: cycler>=0.10 in c:\\users\\james\\anaconda3\\lib\\site-packages (from matplotlib) (0.10.0)\n",
      "Requirement already satisfied: kiwisolver>=1.0.1 in c:\\users\\james\\anaconda3\\lib\\site-packages (from matplotlib) (1.0.1)\n",
      "Requirement already satisfied: pyparsing!=2.0.4,!=2.1.2,!=2.1.6,>=2.0.1 in c:\\users\\james\\anaconda3\\lib\\site-packages (from matplotlib) (2.3.1)\n",
      "Requirement already satisfied: python-dateutil>=2.1 in c:\\users\\james\\anaconda3\\lib\\site-packages (from matplotlib) (2.8.0)\n",
      "Requirement already satisfied: six in c:\\users\\james\\anaconda3\\lib\\site-packages (from cycler>=0.10->matplotlib) (1.12.0)\n",
      "Requirement already satisfied: setuptools in c:\\users\\james\\anaconda3\\lib\\site-packages (from kiwisolver>=1.0.1->matplotlib) (40.8.0)\n"
     ]
    }
   ],
   "source": [
    "!pip install pandas\n",
    "!pip install fix_yahoo_finance\n",
    "!pip install pandas-datareader\n",
    "!pip install matplotlib\n",
    "\n",
    "import pandas as pd\n",
    "import numpy as np\n",
    "import fix_yahoo_finance as yf\n",
    "import pandas_datareader as pdr\n",
    "import matplotlib.pyplot as plt \n"
   ]
  },
  {
   "cell_type": "code",
   "execution_count": 182,
   "metadata": {},
   "outputs": [
    {
     "data": {
      "text/plain": [
       "Series([], Name: Stock Splits, dtype: int64)"
      ]
     },
     "execution_count": 182,
     "metadata": {},
     "output_type": "execute_result"
    }
   ],
   "source": [
    "vod = yf.Ticker(\"IE00B50W2R13.IR\")\n",
    "vod.info # get stock info\n",
    "hist = vod.history(period=\"max\") # get historical market data\n",
    "vod.actions # show actions (dividends, splits)\n",
    "vod.dividends # show dividends\n",
    "vod.splits # show splits"
   ]
  },
  {
   "cell_type": "code",
   "execution_count": 183,
   "metadata": {},
   "outputs": [
    {
     "data": {
      "text/plain": [
       "{'language': 'en-US',\n",
       " 'region': 'US',\n",
       " 'quoteType': 'MUTUALFUND',\n",
       " 'currency': 'GBp',\n",
       " 'shortName': 'Vanguard Global Bond Index Fun',\n",
       " 'averageDailyVolume10Day': 0,\n",
       " 'fiftyTwoWeekLowChange': 14966.938,\n",
       " 'fiftyTwoWeekLowChangePercent': 103.17615,\n",
       " 'fiftyTwoWeekRange': '145.062 - 152.113',\n",
       " 'marketState': 'POST',\n",
       " 'fiftyDayAverage': 151.5877,\n",
       " 'fiftyDayAverageChange': 14960.412,\n",
       " 'fiftyDayAverageChangePercent': 98.69146,\n",
       " 'twoHundredDayAverage': 148.61203,\n",
       " 'twoHundredDayAverageChange': 14963.388,\n",
       " 'sourceInterval': 15,\n",
       " 'exchangeTimezoneName': 'Europe/Dublin',\n",
       " 'exchangeTimezoneShortName': 'IST',\n",
       " 'gmtOffSetMilliseconds': 3600000,\n",
       " 'esgPopulated': False,\n",
       " 'tradeable': False,\n",
       " 'exchangeDataDelayedBy': 0,\n",
       " 'twoHundredDayAverageChangePercent': 100.68759,\n",
       " 'regularMarketPrice': 15112.0,\n",
       " 'regularMarketTime': 1555531200,\n",
       " 'regularMarketChange': -11.0,\n",
       " 'market': 'ie_market',\n",
       " 'priceHint': 2,\n",
       " 'regularMarketChangePercent': -0.07273689,\n",
       " 'regularMarketPreviousClose': 15123.0,\n",
       " 'fullExchangeName': 'Irish',\n",
       " 'longName': 'Vanguard Global Bond Index Fund GBP Hedged Accumulation',\n",
       " 'averageDailyVolume3Month': 0,\n",
       " 'fiftyTwoWeekHighChange': 14959.887,\n",
       " 'fiftyTwoWeekHighChangePercent': 98.34719,\n",
       " 'fiftyTwoWeekLow': 145.062,\n",
       " 'fiftyTwoWeekHigh': 152.113,\n",
       " 'ytdReturn': 2.77,\n",
       " 'trailingThreeMonthReturns': 2.77,\n",
       " 'exchange': 'ISE',\n",
       " 'symbol': 'IE00B50W2R13.IR'}"
      ]
     },
     "execution_count": 183,
     "metadata": {},
     "output_type": "execute_result"
    }
   ],
   "source": [
    "vod.info"
   ]
  },
  {
   "cell_type": "code",
   "execution_count": 111,
   "metadata": {},
   "outputs": [],
   "source": [
    "#my portfolio\n",
    "vod_price = pdr.get_data_yahoo(\"VOD.L\")\n",
    "vod_units = 1437\n",
    "itv_price = pdr.get_data_yahoo(\"ITV.L\")\n",
    "itv_units = 1207\n",
    "blnd_price = pdr.get_data_yahoo(\"BLND.L\")\n",
    "blnd_units = 417\n",
    "vggbond_price = pdr.get_data_yahoo(\"IE00B50W2R13.IR\")\n",
    "vggbond_units = 32.9\n",
    "vguk_price = pdr.get_data_yahoo(\"0P0000SAVS.L\")\n",
    "vguk_units = 72.9524\n",
    "vgus_price = pdr.get_data_yahoo(\"0P0000KSPA.L\")\n",
    "vgus_units = 31.0345"
   ]
  },
  {
   "cell_type": "code",
   "execution_count": 147,
   "metadata": {},
   "outputs": [
    {
     "data": {
      "text/html": [
       "<div>\n",
       "<style scoped>\n",
       "    .dataframe tbody tr th:only-of-type {\n",
       "        vertical-align: middle;\n",
       "    }\n",
       "\n",
       "    .dataframe tbody tr th {\n",
       "        vertical-align: top;\n",
       "    }\n",
       "\n",
       "    .dataframe thead th {\n",
       "        text-align: right;\n",
       "    }\n",
       "</style>\n",
       "<table border=\"1\" class=\"dataframe\">\n",
       "  <thead>\n",
       "    <tr style=\"text-align: right;\">\n",
       "      <th></th>\n",
       "      <th>High</th>\n",
       "      <th>Low</th>\n",
       "      <th>Open</th>\n",
       "      <th>Close</th>\n",
       "      <th>Volume</th>\n",
       "      <th>Adj Close</th>\n",
       "    </tr>\n",
       "    <tr>\n",
       "      <th>Date</th>\n",
       "      <th></th>\n",
       "      <th></th>\n",
       "      <th></th>\n",
       "      <th></th>\n",
       "      <th></th>\n",
       "      <th></th>\n",
       "    </tr>\n",
       "  </thead>\n",
       "  <tbody>\n",
       "    <tr>\n",
       "      <th>2019-05-10</th>\n",
       "      <td>587316.479828</td>\n",
       "      <td>574959.429039</td>\n",
       "      <td>583303.268333</td>\n",
       "      <td>581488.448158</td>\n",
       "      <td>1.017091e+11</td>\n",
       "      <td>581488.448158</td>\n",
       "    </tr>\n",
       "    <tr>\n",
       "      <th>2019-05-13</th>\n",
       "      <td>581563.334297</td>\n",
       "      <td>557891.302979</td>\n",
       "      <td>578967.258339</td>\n",
       "      <td>559331.651749</td>\n",
       "      <td>2.787469e+11</td>\n",
       "      <td>559331.651749</td>\n",
       "    </tr>\n",
       "    <tr>\n",
       "      <th>2019-05-14</th>\n",
       "      <td>569888.186661</td>\n",
       "      <td>548334.633766</td>\n",
       "      <td>557998.396751</td>\n",
       "      <td>552226.186760</td>\n",
       "      <td>2.904632e+11</td>\n",
       "      <td>552226.186760</td>\n",
       "    </tr>\n",
       "    <tr>\n",
       "      <th>2019-05-15</th>\n",
       "      <td>557378.882629</td>\n",
       "      <td>542613.508690</td>\n",
       "      <td>555355.272110</td>\n",
       "      <td>551237.456932</td>\n",
       "      <td>2.153164e+11</td>\n",
       "      <td>551237.456932</td>\n",
       "    </tr>\n",
       "    <tr>\n",
       "      <th>2019-05-16</th>\n",
       "      <td>555568.984741</td>\n",
       "      <td>544828.688736</td>\n",
       "      <td>549582.047630</td>\n",
       "      <td>550233.153488</td>\n",
       "      <td>5.661738e+10</td>\n",
       "      <td>550233.153488</td>\n",
       "    </tr>\n",
       "  </tbody>\n",
       "</table>\n",
       "</div>"
      ],
      "text/plain": [
       "                     High            Low           Open          Close  \\\n",
       "Date                                                                     \n",
       "2019-05-10  587316.479828  574959.429039  583303.268333  581488.448158   \n",
       "2019-05-13  581563.334297  557891.302979  578967.258339  559331.651749   \n",
       "2019-05-14  569888.186661  548334.633766  557998.396751  552226.186760   \n",
       "2019-05-15  557378.882629  542613.508690  555355.272110  551237.456932   \n",
       "2019-05-16  555568.984741  544828.688736  549582.047630  550233.153488   \n",
       "\n",
       "                  Volume      Adj Close  \n",
       "Date                                     \n",
       "2019-05-10  1.017091e+11  581488.448158  \n",
       "2019-05-13  2.787469e+11  559331.651749  \n",
       "2019-05-14  2.904632e+11  552226.186760  \n",
       "2019-05-15  2.153164e+11  551237.456932  \n",
       "2019-05-16  5.661738e+10  550233.153488  "
      ]
     },
     "execution_count": 147,
     "metadata": {},
     "output_type": "execute_result"
    }
   ],
   "source": [
    "vod_value = vod_price * vod_units \n",
    "itv_value = itv_price * itv_units \n",
    "blnd_value = blnd_price * blnd_units \n",
    "(vod_value + itv_value + blnd_value).tail()"
   ]
  },
  {
   "cell_type": "code",
   "execution_count": 189,
   "metadata": {},
   "outputs": [
    {
     "data": {
      "text/html": [
       "<div>\n",
       "<style scoped>\n",
       "    .dataframe tbody tr th:only-of-type {\n",
       "        vertical-align: middle;\n",
       "    }\n",
       "\n",
       "    .dataframe tbody tr th {\n",
       "        vertical-align: top;\n",
       "    }\n",
       "\n",
       "    .dataframe thead th {\n",
       "        text-align: right;\n",
       "    }\n",
       "</style>\n",
       "<table border=\"1\" class=\"dataframe\">\n",
       "  <thead>\n",
       "    <tr style=\"text-align: right;\">\n",
       "      <th></th>\n",
       "      <th>asset_name</th>\n",
       "      <th>asset_id</th>\n",
       "      <th>units</th>\n",
       "      <th>currency</th>\n",
       "    </tr>\n",
       "  </thead>\n",
       "  <tbody>\n",
       "    <tr>\n",
       "      <th>0</th>\n",
       "      <td>Vodafone</td>\n",
       "      <td>VOD.L</td>\n",
       "      <td>1437.0000</td>\n",
       "      <td>pGBP</td>\n",
       "    </tr>\n",
       "    <tr>\n",
       "      <th>1</th>\n",
       "      <td>ITV</td>\n",
       "      <td>ITV.L</td>\n",
       "      <td>1207.0000</td>\n",
       "      <td>pGBP</td>\n",
       "    </tr>\n",
       "    <tr>\n",
       "      <th>2</th>\n",
       "      <td>British Land</td>\n",
       "      <td>BLND.L</td>\n",
       "      <td>417.0000</td>\n",
       "      <td>pGBP</td>\n",
       "    </tr>\n",
       "    <tr>\n",
       "      <th>3</th>\n",
       "      <td>Vanguard Global Bond</td>\n",
       "      <td>IE00B50W2R13.IR</td>\n",
       "      <td>32.9000</td>\n",
       "      <td>GBP</td>\n",
       "    </tr>\n",
       "    <tr>\n",
       "      <th>4</th>\n",
       "      <td>Vanguard UK All Share</td>\n",
       "      <td>0P0000SAVS.L</td>\n",
       "      <td>72.9524</td>\n",
       "      <td>GBP</td>\n",
       "    </tr>\n",
       "    <tr>\n",
       "      <th>5</th>\n",
       "      <td>Vanguard US Equity</td>\n",
       "      <td>0P0000KSPA.L</td>\n",
       "      <td>31.0345</td>\n",
       "      <td>GBP</td>\n",
       "    </tr>\n",
       "  </tbody>\n",
       "</table>\n",
       "</div>"
      ],
      "text/plain": [
       "              asset_name         asset_id      units currency\n",
       "0               Vodafone            VOD.L  1437.0000     pGBP\n",
       "1                    ITV            ITV.L  1207.0000     pGBP\n",
       "2           British Land           BLND.L   417.0000     pGBP\n",
       "3   Vanguard Global Bond  IE00B50W2R13.IR    32.9000      GBP\n",
       "4  Vanguard UK All Share     0P0000SAVS.L    72.9524      GBP\n",
       "5     Vanguard US Equity     0P0000KSPA.L    31.0345      GBP"
      ]
     },
     "execution_count": 189,
     "metadata": {},
     "output_type": "execute_result"
    }
   ],
   "source": [
    "#my portfolio\n",
    "dict_portfolio ={\"asset_name\": [\"Vodafone\",\"ITV\", \"British Land\", \"Vanguard Global Bond\",\"Vanguard UK All Share\", \"Vanguard US Equity\"],\n",
    "                       \"asset_id\": [\"VOD.L\",\"ITV.L\", \"BLND.L\", \"IE00B50W2R13.IR\", \"0P0000SAVS.L\", \"0P0000KSPA.L\"],\n",
    "                       \"units\": [1437,1207, 417, 32.9, 72.9524, 31.0345],\n",
    "                       \"currency\" : [\"pGBP\",\"pGBP\",\"pGBP\",\"GBP\",\"GBP\",\"GBP\"]}\n",
    "\n",
    "df_portfolio = pd.DataFrame.from_dict(dict_portfolio)\n",
    "df_portfolio"
   ]
  },
  {
   "cell_type": "code",
   "execution_count": 208,
   "metadata": {},
   "outputs": [
    {
     "data": {
      "text/html": [
       "<div>\n",
       "<style scoped>\n",
       "    .dataframe tbody tr th:only-of-type {\n",
       "        vertical-align: middle;\n",
       "    }\n",
       "\n",
       "    .dataframe tbody tr th {\n",
       "        vertical-align: top;\n",
       "    }\n",
       "\n",
       "    .dataframe thead th {\n",
       "        text-align: right;\n",
       "    }\n",
       "</style>\n",
       "<table border=\"1\" class=\"dataframe\">\n",
       "  <thead>\n",
       "    <tr style=\"text-align: right;\">\n",
       "      <th></th>\n",
       "      <th>High</th>\n",
       "      <th>Low</th>\n",
       "      <th>Open</th>\n",
       "      <th>Close</th>\n",
       "      <th>Volume</th>\n",
       "      <th>Adj Close</th>\n",
       "    </tr>\n",
       "    <tr>\n",
       "      <th>Date</th>\n",
       "      <th></th>\n",
       "      <th></th>\n",
       "      <th></th>\n",
       "      <th></th>\n",
       "      <th></th>\n",
       "      <th></th>\n",
       "    </tr>\n",
       "  </thead>\n",
       "  <tbody>\n",
       "    <tr>\n",
       "      <th>2019-05-10</th>\n",
       "      <td>200950.074738</td>\n",
       "      <td>198852.067017</td>\n",
       "      <td>199110.716492</td>\n",
       "      <td>199743.000000</td>\n",
       "      <td>7.671683e+10</td>\n",
       "      <td>199743.000000</td>\n",
       "    </tr>\n",
       "    <tr>\n",
       "      <th>2019-05-13</th>\n",
       "      <td>198880.791229</td>\n",
       "      <td>188678.104385</td>\n",
       "      <td>198306.000000</td>\n",
       "      <td>189367.858246</td>\n",
       "      <td>2.465744e+11</td>\n",
       "      <td>189367.858246</td>\n",
       "    </tr>\n",
       "    <tr>\n",
       "      <th>2019-05-14</th>\n",
       "      <td>195891.850525</td>\n",
       "      <td>179797.443947</td>\n",
       "      <td>186810.000000</td>\n",
       "      <td>182269.074738</td>\n",
       "      <td>2.705051e+11</td>\n",
       "      <td>182269.074738</td>\n",
       "    </tr>\n",
       "    <tr>\n",
       "      <th>2019-05-15</th>\n",
       "      <td>182958.839561</td>\n",
       "      <td>178044.302193</td>\n",
       "      <td>182182.858246</td>\n",
       "      <td>181062.000000</td>\n",
       "      <td>1.850141e+11</td>\n",
       "      <td>181062.000000</td>\n",
       "    </tr>\n",
       "    <tr>\n",
       "      <th>2019-05-16</th>\n",
       "      <td>181579.320877</td>\n",
       "      <td>178044.302193</td>\n",
       "      <td>180515.943947</td>\n",
       "      <td>179423.820877</td>\n",
       "      <td>1.475542e+11</td>\n",
       "      <td>179423.820877</td>\n",
       "    </tr>\n",
       "  </tbody>\n",
       "</table>\n",
       "</div>"
      ],
      "text/plain": [
       "                     High            Low           Open          Close  \\\n",
       "Date                                                                     \n",
       "2019-05-10  200950.074738  198852.067017  199110.716492  199743.000000   \n",
       "2019-05-13  198880.791229  188678.104385  198306.000000  189367.858246   \n",
       "2019-05-14  195891.850525  179797.443947  186810.000000  182269.074738   \n",
       "2019-05-15  182958.839561  178044.302193  182182.858246  181062.000000   \n",
       "2019-05-16  181579.320877  178044.302193  180515.943947  179423.820877   \n",
       "\n",
       "                  Volume      Adj Close  \n",
       "Date                                     \n",
       "2019-05-10  7.671683e+10  199743.000000  \n",
       "2019-05-13  2.465744e+11  189367.858246  \n",
       "2019-05-14  2.705051e+11  182269.074738  \n",
       "2019-05-15  1.850141e+11  181062.000000  \n",
       "2019-05-16  1.475542e+11  179423.820877  "
      ]
     },
     "execution_count": 208,
     "metadata": {},
     "output_type": "execute_result"
    }
   ],
   "source": [
    "portfolio = pdr.get_data_yahoo(df_portfolio.iloc[0,1]) * df_portfolio.iloc[0,2] * 0.01\n",
    "portfolio.tail()"
   ]
  },
  {
   "cell_type": "code",
   "execution_count": 209,
   "metadata": {},
   "outputs": [
    {
     "name": "stdout",
     "output_type": "stream",
     "text": [
      "2048.587164916992\n",
      "3742.008201751709\n",
      "6225.660099945068\n",
      "11208.134575042724\n",
      "26418.929268603515\n",
      "41303.416613223264\n"
     ]
    }
   ],
   "source": [
    "portfolio = pdr.get_data_yahoo(df_portfolio.iloc[0,1]) * df_portfolio.iloc[0,2] * 0.01\n",
    "print(portfolio.loc['2019-04-18','Close'])\n",
    "\n",
    "for asset, unit, currency in zip(df_portfolio.asset_id[1:], df_portfolio.units[1:], df_portfolio.currency[1:]):\n",
    "    if currency == \"GBP\": \n",
    "        multiple = 1\n",
    "    else:\n",
    "        multiple = 0.01\n",
    "    temp = multiple * pdr.get_data_yahoo(asset) * unit\n",
    "    #print(asset, (pdr.get_data_yahoo(asset).Close * unit * multiple).tail(1))\n",
    "    portfolio += temp\n",
    "    print(portfolio.loc['2019-04-18','Close'])"
   ]
  },
  {
   "cell_type": "code",
   "execution_count": 196,
   "metadata": {},
   "outputs": [
    {
     "data": {
      "text/html": [
       "<div>\n",
       "<style scoped>\n",
       "    .dataframe tbody tr th:only-of-type {\n",
       "        vertical-align: middle;\n",
       "    }\n",
       "\n",
       "    .dataframe tbody tr th {\n",
       "        vertical-align: top;\n",
       "    }\n",
       "\n",
       "    .dataframe thead th {\n",
       "        text-align: right;\n",
       "    }\n",
       "</style>\n",
       "<table border=\"1\" class=\"dataframe\">\n",
       "  <thead>\n",
       "    <tr style=\"text-align: right;\">\n",
       "      <th></th>\n",
       "      <th>High</th>\n",
       "      <th>Low</th>\n",
       "      <th>Open</th>\n",
       "      <th>Close</th>\n",
       "      <th>Volume</th>\n",
       "      <th>Adj Close</th>\n",
       "    </tr>\n",
       "    <tr>\n",
       "      <th>Date</th>\n",
       "      <th></th>\n",
       "      <th></th>\n",
       "      <th></th>\n",
       "      <th></th>\n",
       "      <th></th>\n",
       "      <th></th>\n",
       "    </tr>\n",
       "  </thead>\n",
       "  <tbody>\n",
       "    <tr>\n",
       "      <th>2019-04-12</th>\n",
       "      <td>240949.288509</td>\n",
       "      <td>237480.050058</td>\n",
       "      <td>238648.664078</td>\n",
       "      <td>240938.107134</td>\n",
       "      <td>1.474687e+11</td>\n",
       "      <td>240938.107134</td>\n",
       "    </tr>\n",
       "    <tr>\n",
       "      <th>2019-04-15</th>\n",
       "      <td>244217.361924</td>\n",
       "      <td>239891.928490</td>\n",
       "      <td>240442.999557</td>\n",
       "      <td>243824.886369</td>\n",
       "      <td>1.016868e+11</td>\n",
       "      <td>243824.886369</td>\n",
       "    </tr>\n",
       "    <tr>\n",
       "      <th>2019-04-16</th>\n",
       "      <td>246973.247475</td>\n",
       "      <td>243370.919466</td>\n",
       "      <td>244625.570176</td>\n",
       "      <td>244071.155401</td>\n",
       "      <td>7.761553e+10</td>\n",
       "      <td>244071.155401</td>\n",
       "    </tr>\n",
       "    <tr>\n",
       "      <th>2019-04-17</th>\n",
       "      <td>246621.915594</td>\n",
       "      <td>243430.277211</td>\n",
       "      <td>243964.923606</td>\n",
       "      <td>245693.481397</td>\n",
       "      <td>9.275508e+10</td>\n",
       "      <td>245693.481397</td>\n",
       "    </tr>\n",
       "    <tr>\n",
       "      <th>2019-04-18</th>\n",
       "      <td>246573.955606</td>\n",
       "      <td>243228.345809</td>\n",
       "      <td>245854.827435</td>\n",
       "      <td>244113.545940</td>\n",
       "      <td>8.989626e+10</td>\n",
       "      <td>244113.545940</td>\n",
       "    </tr>\n",
       "  </tbody>\n",
       "</table>\n",
       "</div>"
      ],
      "text/plain": [
       "                     High            Low           Open          Close  \\\n",
       "Date                                                                     \n",
       "2019-04-12  240949.288509  237480.050058  238648.664078  240938.107134   \n",
       "2019-04-15  244217.361924  239891.928490  240442.999557  243824.886369   \n",
       "2019-04-16  246973.247475  243370.919466  244625.570176  244071.155401   \n",
       "2019-04-17  246621.915594  243430.277211  243964.923606  245693.481397   \n",
       "2019-04-18  246573.955606  243228.345809  245854.827435  244113.545940   \n",
       "\n",
       "                  Volume      Adj Close  \n",
       "Date                                     \n",
       "2019-04-12  1.474687e+11  240938.107134  \n",
       "2019-04-15  1.016868e+11  243824.886369  \n",
       "2019-04-16  7.761553e+10  244071.155401  \n",
       "2019-04-17  9.275508e+10  245693.481397  \n",
       "2019-04-18  8.989626e+10  244113.545940  "
      ]
     },
     "execution_count": 196,
     "metadata": {},
     "output_type": "execute_result"
    }
   ],
   "source": [
    "portfolio.dropna().tail()"
   ]
  },
  {
   "cell_type": "code",
   "execution_count": 113,
   "metadata": {},
   "outputs": [
    {
     "data": {
      "text/html": [
       "<div>\n",
       "<style scoped>\n",
       "    .dataframe tbody tr th:only-of-type {\n",
       "        vertical-align: middle;\n",
       "    }\n",
       "\n",
       "    .dataframe tbody tr th {\n",
       "        vertical-align: top;\n",
       "    }\n",
       "\n",
       "    .dataframe thead th {\n",
       "        text-align: right;\n",
       "    }\n",
       "</style>\n",
       "<table border=\"1\" class=\"dataframe\">\n",
       "  <thead>\n",
       "    <tr style=\"text-align: right;\">\n",
       "      <th></th>\n",
       "      <th>High</th>\n",
       "      <th>Low</th>\n",
       "      <th>Open</th>\n",
       "      <th>Close</th>\n",
       "      <th>Volume</th>\n",
       "      <th>Adj Close</th>\n",
       "    </tr>\n",
       "    <tr>\n",
       "      <th>Date</th>\n",
       "      <th></th>\n",
       "      <th></th>\n",
       "      <th></th>\n",
       "      <th></th>\n",
       "      <th></th>\n",
       "      <th></th>\n",
       "    </tr>\n",
       "  </thead>\n",
       "  <tbody>\n",
       "    <tr>\n",
       "      <th>2019-04-18</th>\n",
       "      <td>4982.474475</td>\n",
       "      <td>4982.474475</td>\n",
       "      <td>4982.474475</td>\n",
       "      <td>4982.474475</td>\n",
       "      <td>0.0</td>\n",
       "      <td>4982.474475</td>\n",
       "    </tr>\n",
       "  </tbody>\n",
       "</table>\n",
       "</div>"
      ],
      "text/plain": [
       "                   High          Low         Open        Close  Volume  \\\n",
       "Date                                                                     \n",
       "2019-04-18  4982.474475  4982.474475  4982.474475  4982.474475     0.0   \n",
       "\n",
       "              Adj Close  \n",
       "Date                     \n",
       "2019-04-18  4982.474475  "
      ]
     },
     "execution_count": 113,
     "metadata": {},
     "output_type": "execute_result"
    }
   ],
   "source": [
    "vangbond_price.tail(1) * vangbond_units "
   ]
  },
  {
   "cell_type": "code",
   "execution_count": 42,
   "metadata": {},
   "outputs": [
    {
     "name": "stdout",
     "output_type": "stream",
     "text": [
      "[*********************100%***********************]  1 of 1 downloaded\n"
     ]
    }
   ],
   "source": [
    "data = yf.download(\"VOD\", start=\"2018-01-01\", end=\"2019-05-15\")\n",
    "#data.Close.corr()"
   ]
  },
  {
   "cell_type": "code",
   "execution_count": 49,
   "metadata": {},
   "outputs": [
    {
     "name": "stdout",
     "output_type": "stream",
     "text": [
      "[*********************100%***********************]  2 of 2 downloaded\n"
     ]
    },
    {
     "data": {
      "text/html": [
       "<div>\n",
       "<style scoped>\n",
       "    .dataframe tbody tr th:only-of-type {\n",
       "        vertical-align: middle;\n",
       "    }\n",
       "\n",
       "    .dataframe tbody tr th {\n",
       "        vertical-align: top;\n",
       "    }\n",
       "\n",
       "    .dataframe thead th {\n",
       "        text-align: right;\n",
       "    }\n",
       "</style>\n",
       "<table border=\"1\" class=\"dataframe\">\n",
       "  <thead>\n",
       "    <tr style=\"text-align: right;\">\n",
       "      <th></th>\n",
       "      <th>ITV.L</th>\n",
       "      <th>VOD</th>\n",
       "    </tr>\n",
       "  </thead>\n",
       "  <tbody>\n",
       "    <tr>\n",
       "      <th>ITV.L</th>\n",
       "      <td>1.000000</td>\n",
       "      <td>0.321004</td>\n",
       "    </tr>\n",
       "    <tr>\n",
       "      <th>VOD</th>\n",
       "      <td>0.321004</td>\n",
       "      <td>1.000000</td>\n",
       "    </tr>\n",
       "  </tbody>\n",
       "</table>\n",
       "</div>"
      ],
      "text/plain": [
       "          ITV.L       VOD\n",
       "ITV.L  1.000000  0.321004\n",
       "VOD    0.321004  1.000000"
      ]
     },
     "execution_count": 49,
     "metadata": {},
     "output_type": "execute_result"
    }
   ],
   "source": [
    "#data = yf.download(\"VOD ITV.L\", start=\"2018-11-01\", end=\"2018-12-15\")\n",
    "data = yf.download(\"VOD ITV.L\", start=\"2018-01-01\", end=\"2019-01-01\")\n",
    "data.Close.corr()"
   ]
  },
  {
   "cell_type": "code",
   "execution_count": 108,
   "metadata": {},
   "outputs": [
    {
     "name": "stdout",
     "output_type": "stream",
     "text": [
      "(2366, 6)\n",
      "(2366, 6)\n"
     ]
    }
   ],
   "source": [
    "\n",
    "import fix_yahoo_finance as yf\n",
    "yf.pdr_override()\n",
    "\n",
    "# download dataframe\n",
    "#BLND.L VOD.L ITV.L\n",
    "stock1 = pdr.get_data_yahoo(\"VOD.L\")\n",
    "stock2 = pdr.get_data_yahoo(\"ITV.L\")\n",
    "print(stock1.shape)\n",
    "print(stock2.shape)"
   ]
  },
  {
   "cell_type": "code",
   "execution_count": 109,
   "metadata": {},
   "outputs": [
    {
     "data": {
      "text/plain": [
       "0.871460296298292"
      ]
     },
     "execution_count": 109,
     "metadata": {},
     "output_type": "execute_result"
    }
   ],
   "source": [
    "asset_corr(stock1, stock2)"
   ]
  },
  {
   "cell_type": "code",
   "execution_count": 86,
   "metadata": {},
   "outputs": [],
   "source": [
    "#returns correlation between 2 assets\n",
    "def asset_corr(asset1, asset2):\n",
    "    data = pd.concat([asset1['Adj Close'], asset2['Adj Close']],axis=1)\n",
    "    data.dropna(inplace = True)\n",
    "    correlation = data.corr()\n",
    "    return(correlation.iloc[0,1])    "
   ]
  },
  {
   "cell_type": "code",
   "execution_count": 82,
   "metadata": {},
   "outputs": [
    {
     "data": {
      "text/plain": [
       "[<matplotlib.lines.Line2D at 0x2b921ab94e0>,\n",
       " <matplotlib.lines.Line2D at 0x2b9218c16a0>,\n",
       " <matplotlib.lines.Line2D at 0x2b9218c1828>,\n",
       " <matplotlib.lines.Line2D at 0x2b9218c1978>,\n",
       " <matplotlib.lines.Line2D at 0x2b9218c1ac8>,\n",
       " <matplotlib.lines.Line2D at 0x2b9218c1c18>,\n",
       " <matplotlib.lines.Line2D at 0x2b9218c1d68>,\n",
       " <matplotlib.lines.Line2D at 0x2b9218c1eb8>,\n",
       " <matplotlib.lines.Line2D at 0x2b9218cd048>,\n",
       " <matplotlib.lines.Line2D at 0x2b9218cd198>,\n",
       " <matplotlib.lines.Line2D at 0x2b9219f6240>,\n",
       " <matplotlib.lines.Line2D at 0x2b9218cd400>]"
      ]
     },
     "execution_count": 82,
     "metadata": {},
     "output_type": "execute_result"
    },
    {
     "data": {
      "image/png": "[encoded data removed]",
      "text/plain": [
       "<Figure size 432x288 with 1 Axes>"
      ]
     },
     "metadata": {
      "needs_background": "light"
     },
     "output_type": "display_data"
    }
   ],
   "source": [
    "plt.plot(data)"
   ]
  },
  {
   "cell_type": "code",
   "execution_count": null,
   "metadata": {},
   "outputs": [],
   "source": []
  }
 ],
 "metadata": {
  "kernelspec": {
   "display_name": "Python 3",
   "language": "python",
   "name": "python3"
  },
  "language_info": {
   "codemirror_mode": {
    "name": "ipython",
    "version": 3
   },
   "file_extension": ".py",
   "mimetype": "text/x-python",
   "name": "python",
   "nbconvert_exporter": "python",
   "pygments_lexer": "ipython3",
   "version": "3.7.3"
  }
 },
 "nbformat": 4,
 "nbformat_minor": 2
}
