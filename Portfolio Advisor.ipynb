{
 "cells": [
  {
   "cell_type": "code",
   "execution_count": 18,
   "metadata": {},
   "outputs": [
    {
     "name": "stdout",
     "output_type": "stream",
     "text": [
      "Requirement already satisfied: pandas in /srv/conda/envs/notebook/lib/python3.7/site-packages (0.24.2)\n",
      "Requirement already satisfied: pytz>=2011k in /srv/conda/envs/notebook/lib/python3.7/site-packages (from pandas) (2019.1)\n",
      "Requirement already satisfied: numpy>=1.12.0 in /srv/conda/envs/notebook/lib/python3.7/site-packages (from pandas) (1.16.3)\n",
      "Requirement already satisfied: python-dateutil>=2.5.0 in /srv/conda/envs/notebook/lib/python3.7/site-packages (from pandas) (2.8.0)\n",
      "Requirement already satisfied: six>=1.5 in /srv/conda/envs/notebook/lib/python3.7/site-packages (from python-dateutil>=2.5.0->pandas) (1.12.0)\n",
      "Requirement already satisfied: fix_yahoo_finance in /srv/conda/envs/notebook/lib/python3.7/site-packages (0.1.33)\n",
      "Requirement already satisfied: pandas>=0.24 in /srv/conda/envs/notebook/lib/python3.7/site-packages (from fix_yahoo_finance) (0.24.2)\n",
      "Requirement already satisfied: multitasking>=0.0.7 in /srv/conda/envs/notebook/lib/python3.7/site-packages (from fix_yahoo_finance) (0.0.8)\n",
      "Requirement already satisfied: requests<2.20 in /srv/conda/envs/notebook/lib/python3.7/site-packages (from fix_yahoo_finance) (2.19.1)\n",
      "Requirement already satisfied: numpy>1.15 in /srv/conda/envs/notebook/lib/python3.7/site-packages (from fix_yahoo_finance) (1.16.3)\n",
      "Requirement already satisfied: pytz>=2011k in /srv/conda/envs/notebook/lib/python3.7/site-packages (from pandas>=0.24->fix_yahoo_finance) (2019.1)\n",
      "Requirement already satisfied: python-dateutil>=2.5.0 in /srv/conda/envs/notebook/lib/python3.7/site-packages (from pandas>=0.24->fix_yahoo_finance) (2.8.0)\n",
      "Requirement already satisfied: urllib3<1.24,>=1.21.1 in /srv/conda/envs/notebook/lib/python3.7/site-packages (from requests<2.20->fix_yahoo_finance) (1.23)\n",
      "Requirement already satisfied: certifi>=2017.4.17 in /srv/conda/envs/notebook/lib/python3.7/site-packages (from requests<2.20->fix_yahoo_finance) (2019.3.9)\n",
      "Requirement already satisfied: chardet<3.1.0,>=3.0.2 in /srv/conda/envs/notebook/lib/python3.7/site-packages (from requests<2.20->fix_yahoo_finance) (3.0.4)\n",
      "Requirement already satisfied: idna<2.8,>=2.5 in /srv/conda/envs/notebook/lib/python3.7/site-packages (from requests<2.20->fix_yahoo_finance) (2.7)\n",
      "Requirement already satisfied: six>=1.5 in /srv/conda/envs/notebook/lib/python3.7/site-packages (from python-dateutil>=2.5.0->pandas>=0.24->fix_yahoo_finance) (1.12.0)\n",
      "Requirement already satisfied: pandas-datareader in /srv/conda/envs/notebook/lib/python3.7/site-packages (0.7.0)\n",
      "Requirement already satisfied: wrapt in /srv/conda/envs/notebook/lib/python3.7/site-packages (from pandas-datareader) (1.11.1)\n",
      "Requirement already satisfied: pandas>=0.19.2 in /srv/conda/envs/notebook/lib/python3.7/site-packages (from pandas-datareader) (0.24.2)\n",
      "Requirement already satisfied: requests>=2.3.0 in /srv/conda/envs/notebook/lib/python3.7/site-packages (from pandas-datareader) (2.19.1)\n",
      "Requirement already satisfied: lxml in /srv/conda/envs/notebook/lib/python3.7/site-packages (from pandas-datareader) (4.3.3)\n",
      "Requirement already satisfied: pytz>=2011k in /srv/conda/envs/notebook/lib/python3.7/site-packages (from pandas>=0.19.2->pandas-datareader) (2019.1)\n",
      "Requirement already satisfied: numpy>=1.12.0 in /srv/conda/envs/notebook/lib/python3.7/site-packages (from pandas>=0.19.2->pandas-datareader) (1.16.3)\n",
      "Requirement already satisfied: python-dateutil>=2.5.0 in /srv/conda/envs/notebook/lib/python3.7/site-packages (from pandas>=0.19.2->pandas-datareader) (2.8.0)\n",
      "Requirement already satisfied: certifi>=2017.4.17 in /srv/conda/envs/notebook/lib/python3.7/site-packages (from requests>=2.3.0->pandas-datareader) (2019.3.9)\n",
      "Requirement already satisfied: urllib3<1.24,>=1.21.1 in /srv/conda/envs/notebook/lib/python3.7/site-packages (from requests>=2.3.0->pandas-datareader) (1.23)\n",
      "Requirement already satisfied: chardet<3.1.0,>=3.0.2 in /srv/conda/envs/notebook/lib/python3.7/site-packages (from requests>=2.3.0->pandas-datareader) (3.0.4)\n",
      "Requirement already satisfied: idna<2.8,>=2.5 in /srv/conda/envs/notebook/lib/python3.7/site-packages (from requests>=2.3.0->pandas-datareader) (2.7)\n",
      "Requirement already satisfied: six>=1.5 in /srv/conda/envs/notebook/lib/python3.7/site-packages (from python-dateutil>=2.5.0->pandas>=0.19.2->pandas-datareader) (1.12.0)\n",
      "Collecting matplotlib\n",
      "\u001b[?25l  Downloading https://files.pythonhosted.org/packages/83/2a/e47bbd9396af32376863a426baed62d9bf3091f81defd1fe81c5f33b11a3/matplotlib-3.0.3-cp37-cp37m-manylinux1_x86_64.whl (13.0MB)\n",
      "\u001b[K     |████████████████████████████████| 13.0MB 112kB/s eta 0:00:01    |████████████▊                   | 5.2MB 2.2MB/s eta 0:00:04B 2.2MB/s eta 0:00:03     |█████████████████████▉          | 8.9MB 2.2MB/s eta 0:00:02     |███████████████████████▋        | 9.6MB 2.2MB/s eta 0:00:020:01\n",
      "\u001b[?25hRequirement already satisfied: python-dateutil>=2.1 in /srv/conda/envs/notebook/lib/python3.7/site-packages (from matplotlib) (2.8.0)\n",
      "Collecting cycler>=0.10 (from matplotlib)\n",
      "  Downloading https://files.pythonhosted.org/packages/f7/d2/e07d3ebb2bd7af696440ce7e754c59dd546ffe1bbe732c8ab68b9c834e61/cycler-0.10.0-py2.py3-none-any.whl\n",
      "Collecting kiwisolver>=1.0.1 (from matplotlib)\n",
      "\u001b[?25l  Downloading https://files.pythonhosted.org/packages/93/f8/518fb0bb89860eea6ff1b96483fbd9236d5ee991485d0f3eceff1770f654/kiwisolver-1.1.0-cp37-cp37m-manylinux1_x86_64.whl (90kB)\n",
      "\u001b[K     |████████████████████████████████| 92kB 3.3MB/s  eta 0:00:01     |██████████████████              | 51kB 11.5MB/s eta 0:00:01\n",
      "\u001b[?25hCollecting pyparsing!=2.0.4,!=2.1.2,!=2.1.6,>=2.0.1 (from matplotlib)\n",
      "\u001b[?25l  Downloading https://files.pythonhosted.org/packages/dd/d9/3ec19e966301a6e25769976999bd7bbe552016f0d32b577dc9d63d2e0c49/pyparsing-2.4.0-py2.py3-none-any.whl (62kB)\n",
      "\u001b[K     |████████████████████████████████| 71kB 20.2MB/s eta 0:00:01\n",
      "\u001b[?25hRequirement already satisfied: numpy>=1.10.0 in /srv/conda/envs/notebook/lib/python3.7/site-packages (from matplotlib) (1.16.3)\n",
      "Requirement already satisfied: six>=1.5 in /srv/conda/envs/notebook/lib/python3.7/site-packages (from python-dateutil>=2.1->matplotlib) (1.12.0)\n",
      "Requirement already satisfied: setuptools in /srv/conda/envs/notebook/lib/python3.7/site-packages (from kiwisolver>=1.0.1->matplotlib) (41.0.1)\n",
      "Installing collected packages: cycler, kiwisolver, pyparsing, matplotlib\n",
      "Successfully installed cycler-0.10.0 kiwisolver-1.1.0 matplotlib-3.0.3 pyparsing-2.4.0\n"
     ]
    }
   ],
   "source": [
    "!pip install pandas\n",
    "!pip install fix_yahoo_finance\n",
    "!pip install pandas-datareader\n",
    "!pip install matplotlib\n",
    "\n",
    "import pandas as pd\n",
    "import numpy as np\n",
    "import fix_yahoo_finance as yf\n",
    "import pandas_datareader as pdr\n",
    "import matplotlib.pyplot as plt \n"
   ]
  },
  {
   "cell_type": "code",
   "execution_count": 24,
   "metadata": {},
   "outputs": [
    {
     "data": {
      "text/plain": [
       "Date\n",
       "1987-09-21    2.0\n",
       "1990-04-16    2.0\n",
       "1991-06-27    1.5\n",
       "1992-06-15    1.5\n",
       "1994-05-23    2.0\n",
       "1996-12-09    2.0\n",
       "1998-02-23    2.0\n",
       "1999-03-29    2.0\n",
       "2003-02-18    2.0\n",
       "Name: Stock Splits, dtype: float64"
      ]
     },
     "execution_count": 24,
     "metadata": {},
     "output_type": "execute_result"
    }
   ],
   "source": [
    "vod = yf.Ticker(\"VOD\")\n",
    "\n",
    "# get stock info\n",
    "msft.info\n",
    "\n",
    "# get historical market data\n",
    "hist = msft.history(period=\"max\")\n",
    "\n",
    "# show actions (dividends, splits)\n",
    "msft.actions\n",
    "\n",
    "# show dividends\n",
    "msft.dividends\n",
    "\n",
    "# show splits\n",
    "msft.splits"
   ]
  },
  {
   "cell_type": "code",
   "execution_count": 25,
   "metadata": {},
   "outputs": [
    {
     "data": {
      "text/plain": [
       "{'language': 'en-US',\n",
       " 'region': 'US',\n",
       " 'quoteType': 'EQUITY',\n",
       " 'quoteSourceName': 'Nasdaq Real Time Price',\n",
       " 'currency': 'USD',\n",
       " 'regularMarketPrice': 16.145,\n",
       " 'regularMarketTime': 1557938663,\n",
       " 'regularMarketChange': -0.1949997,\n",
       " 'regularMarketOpen': 16.25,\n",
       " 'regularMarketDayHigh': 16.29,\n",
       " 'regularMarketDayLow': 16.11,\n",
       " 'regularMarketVolume': 5935643,\n",
       " 'shortName': 'Vodafone Group Plc',\n",
       " 'twoHundredDayAverageChangePercent': -0.14658327,\n",
       " 'priceHint': 2,\n",
       " 'marketState': 'REGULAR',\n",
       " 'gmtOffSetMilliseconds': -14400000,\n",
       " 'esgPopulated': False,\n",
       " 'tradeable': True,\n",
       " 'market': 'us_market',\n",
       " 'exchange': 'NMS',\n",
       " 'exchangeDataDelayedBy': 0,\n",
       " 'regularMarketChangePercent': -1.1933886,\n",
       " 'regularMarketDayRange': '16.11 - 16.29',\n",
       " 'regularMarketPreviousClose': 16.34,\n",
       " 'bid': 16.14,\n",
       " 'ask': 16.14,\n",
       " 'bidSize': 215,\n",
       " 'askSize': 40,\n",
       " 'messageBoardId': 'finmb_324490',\n",
       " 'fullExchangeName': 'NasdaqGS',\n",
       " 'longName': 'Vodafone Group Plc',\n",
       " 'financialCurrency': 'EUR',\n",
       " 'averageDailyVolume3Month': 4648642,\n",
       " 'averageDailyVolume10Day': 6912271,\n",
       " 'fiftyTwoWeekLowChange': 0.034999847,\n",
       " 'fiftyTwoWeekLowChangePercent': 0.0021725541,\n",
       " 'fiftyTwoWeekRange': '16.11 - 27.1',\n",
       " 'fiftyTwoWeekHighChange': -10.955,\n",
       " 'fiftyTwoWeekHighChangePercent': -0.40424353,\n",
       " 'fiftyTwoWeekLow': 16.11,\n",
       " 'fiftyTwoWeekHigh': 27.1,\n",
       " 'dividendDate': 1548979200,\n",
       " 'earningsTimestamp': 1479216600,\n",
       " 'trailingAnnualDividendRate': 0.176,\n",
       " 'trailingAnnualDividendYield': 0.010771113,\n",
       " 'epsTrailingTwelveMonths': -2.82,\n",
       " 'epsForward': 0.76,\n",
       " 'sharesOutstanding': 27462000640,\n",
       " 'bookValue': 25.64,\n",
       " 'fiftyDayAverage': 18.298286,\n",
       " 'marketCap': 42835750912,\n",
       " 'fiftyDayAverageChange': -2.153286,\n",
       " 'fiftyDayAverageChangePercent': -0.11767692,\n",
       " 'twoHundredDayAverage': 18.918074,\n",
       " 'twoHundredDayAverageChange': -2.7730732,\n",
       " 'forwardPE': 21.243422,\n",
       " 'priceToBook': 0.6296802,\n",
       " 'sourceInterval': 15,\n",
       " 'exchangeTimezoneName': 'America/New_York',\n",
       " 'exchangeTimezoneShortName': 'EDT',\n",
       " 'symbol': 'VOD'}"
      ]
     },
     "execution_count": 25,
     "metadata": {},
     "output_type": "execute_result"
    }
   ],
   "source": [
    "vod.info"
   ]
  },
  {
   "cell_type": "code",
   "execution_count": 13,
   "metadata": {},
   "outputs": [],
   "source": [
    "\n",
    "import fix_yahoo_finance as yf\n",
    "yf.pdr_override() # <== that's all it takes :-)\n",
    "\n",
    "# download dataframe\n",
    "data = pdr.get_data_yahoo(\"VOD\", start=\"2019-01-01\", end=\"2019-05-15\")"
   ]
  },
  {
   "cell_type": "code",
   "execution_count": 22,
   "metadata": {},
   "outputs": [
    {
     "data": {
      "text/plain": [
       "[<matplotlib.lines.Line2D at 0x7f60a81439e8>,\n",
       " <matplotlib.lines.Line2D at 0x7f60a80fbd30>,\n",
       " <matplotlib.lines.Line2D at 0x7f60a80fbeb8>,\n",
       " <matplotlib.lines.Line2D at 0x7f60a8107048>,\n",
       " <matplotlib.lines.Line2D at 0x7f60a8107198>,\n",
       " <matplotlib.lines.Line2D at 0x7f60a81072e8>]"
      ]
     },
     "execution_count": 22,
     "metadata": {},
     "output_type": "execute_result"
    },
    {
     "data": {
      "image/png": "[encoded data removed]",
      "text/plain": [
       "<Figure size 432x288 with 1 Axes>"
      ]
     },
     "metadata": {
      "needs_background": "light"
     },
     "output_type": "display_data"
    }
   ],
   "source": [
    "plt.plot(data)"
   ]
  },
  {
   "cell_type": "code",
   "execution_count": null,
   "metadata": {},
   "outputs": [],
   "source": []
  }
 ],
 "metadata": {
  "kernelspec": {
   "display_name": "Python 3",
   "language": "python",
   "name": "python3"
  },
  "language_info": {
   "codemirror_mode": {
    "name": "ipython",
    "version": 3
   },
   "file_extension": ".py",
   "mimetype": "text/x-python",
   "name": "python",
   "nbconvert_exporter": "python",
   "pygments_lexer": "ipython3",
   "version": "3.7.3"
  }
 },
 "nbformat": 4,
 "nbformat_minor": 2
}
